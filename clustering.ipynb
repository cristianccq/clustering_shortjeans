{
 "cells": [
  {
   "cell_type": "code",
   "execution_count": 106,
   "metadata": {},
   "outputs": [],
   "source": [
    "data <- read.csv(\"shortjean.csv\",sep=\";\")"
   ]
  },
  {
   "cell_type": "code",
   "execution_count": 113,
   "metadata": {},
   "outputs": [
    {
     "data": {
      "text/html": [
       "<ol class=list-inline>\n",
       "\t<li>'ï..STOREID'</li>\n",
       "\t<li>'FASHION'</li>\n",
       "\t<li>'LEISURE'</li>\n",
       "\t<li>'STRETCH'</li>\n",
       "\t<li>'ORIGINAL'</li>\n",
       "</ol>\n"
      ],
      "text/latex": [
       "\\begin{enumerate*}\n",
       "\\item 'ï..STOREID'\n",
       "\\item 'FASHION'\n",
       "\\item 'LEISURE'\n",
       "\\item 'STRETCH'\n",
       "\\item 'ORIGINAL'\n",
       "\\end{enumerate*}\n"
      ],
      "text/markdown": [
       "1. 'ï..STOREID'\n",
       "2. 'FASHION'\n",
       "3. 'LEISURE'\n",
       "4. 'STRETCH'\n",
       "5. 'ORIGINAL'\n",
       "\n",
       "\n"
      ],
      "text/plain": [
       "[1] \"ï..STOREID\" \"FASHION\"    \"LEISURE\"    \"STRETCH\"    \"ORIGINAL\"  "
      ]
     },
     "metadata": {},
     "output_type": "display_data"
    }
   ],
   "source": [
    "names(data)"
   ]
  },
  {
   "cell_type": "code",
   "execution_count": 108,
   "metadata": {},
   "outputs": [],
   "source": [
    "data['SALESTOT'] <- NULL\n",
    "data['pFASHION'] <- NULL\n",
    "data['pLEISURE'] <- NULL\n",
    "data['pSTRETCH'] <- NULL\n",
    "data['pORIGINAL'] <- NULL"
   ]
  },
  {
   "cell_type": "code",
   "execution_count": 110,
   "metadata": {},
   "outputs": [
    {
     "data": {
      "text/html": [
       "119000"
      ],
      "text/latex": [
       "119000"
      ],
      "text/markdown": [
       "119000"
      ],
      "text/plain": [
       "[1] 119000"
      ]
     },
     "metadata": {},
     "output_type": "display_data"
    }
   ],
   "source": [
    "data[600,2]"
   ]
  },
  {
   "cell_type": "code",
   "execution_count": 114,
   "metadata": {},
   "outputs": [],
   "source": [
    "#normalizar\n",
    "data.norm<- sapply(data[,2:5],scale)"
   ]
  },
  {
   "cell_type": "code",
   "execution_count": 115,
   "metadata": {},
   "outputs": [],
   "source": [
    "colnames(data.norm) <- c('z_fashion','z_leisure','z_stretch','z_original')"
   ]
  },
  {
   "cell_type": "code",
   "execution_count": 116,
   "metadata": {},
   "outputs": [],
   "source": [
    "df <- cbind(data,data.norm)"
   ]
  },
  {
   "cell_type": "code",
   "execution_count": 117,
   "metadata": {},
   "outputs": [
    {
     "data": {
      "text/html": [
       "<table>\n",
       "<thead><tr><th scope=col>ï..STOREID</th><th scope=col>FASHION</th><th scope=col>LEISURE</th><th scope=col>STRETCH</th><th scope=col>ORIGINAL</th><th scope=col>z_fashion</th><th scope=col>z_leisure</th><th scope=col>z_stretch</th><th scope=col>z_original</th></tr></thead>\n",
       "<tbody>\n",
       "\t<tr><td>1         </td><td>182000    </td><td>1528000   </td><td>496000    </td><td>2203000   </td><td> 2.7513038</td><td>-1.1071129</td><td> 0.2454501</td><td> 1.2126396</td></tr>\n",
       "\t<tr><td>2         </td><td>129000    </td><td>2247000   </td><td>296000    </td><td>1890000   </td><td> 1.1263485</td><td> 0.9422545</td><td>-0.6993270</td><td> 0.1392808</td></tr>\n",
       "\t<tr><td>3         </td><td>107000    </td><td>1652000   </td><td>267000    </td><td>2342000   </td><td> 0.4518388</td><td>-0.7536754</td><td>-0.8363197</td><td> 1.6893070</td></tr>\n",
       "\t<tr><td>4         </td><td>117000    </td><td>1744000   </td><td>419000    </td><td>2119000   </td><td> 0.7584341</td><td>-0.4914476</td><td>-0.1182891</td><td> 0.9245817</td></tr>\n",
       "\t<tr><td>5         </td><td>110000    </td><td>1736000   </td><td>755000    </td><td>1781000   </td><td> 0.5438174</td><td>-0.5142500</td><td> 1.4689364</td><td>-0.2345087</td></tr>\n",
       "\t<tr><td>6         </td><td> 79000    </td><td>1637000   </td><td>613000    </td><td>2138000   </td><td>-0.4066282</td><td>-0.7964299</td><td> 0.7981447</td><td> 0.9897376</td></tr>\n",
       "</tbody>\n",
       "</table>\n"
      ],
      "text/latex": [
       "\\begin{tabular}{r|lllllllll}\n",
       " ï..STOREID & FASHION & LEISURE & STRETCH & ORIGINAL & z\\_fashion & z\\_leisure & z\\_stretch & z\\_original\\\\\n",
       "\\hline\n",
       "\t 1          & 182000     & 1528000    & 496000     & 2203000    &  2.7513038 & -1.1071129 &  0.2454501 &  1.2126396\\\\\n",
       "\t 2          & 129000     & 2247000    & 296000     & 1890000    &  1.1263485 &  0.9422545 & -0.6993270 &  0.1392808\\\\\n",
       "\t 3          & 107000     & 1652000    & 267000     & 2342000    &  0.4518388 & -0.7536754 & -0.8363197 &  1.6893070\\\\\n",
       "\t 4          & 117000     & 1744000    & 419000     & 2119000    &  0.7584341 & -0.4914476 & -0.1182891 &  0.9245817\\\\\n",
       "\t 5          & 110000     & 1736000    & 755000     & 1781000    &  0.5438174 & -0.5142500 &  1.4689364 & -0.2345087\\\\\n",
       "\t 6          &  79000     & 1637000    & 613000     & 2138000    & -0.4066282 & -0.7964299 &  0.7981447 &  0.9897376\\\\\n",
       "\\end{tabular}\n"
      ],
      "text/markdown": [
       "\n",
       "ï..STOREID | FASHION | LEISURE | STRETCH | ORIGINAL | z_fashion | z_leisure | z_stretch | z_original | \n",
       "|---|---|---|---|---|---|\n",
       "| 1          | 182000     | 1528000    | 496000     | 2203000    |  2.7513038 | -1.1071129 |  0.2454501 |  1.2126396 | \n",
       "| 2          | 129000     | 2247000    | 296000     | 1890000    |  1.1263485 |  0.9422545 | -0.6993270 |  0.1392808 | \n",
       "| 3          | 107000     | 1652000    | 267000     | 2342000    |  0.4518388 | -0.7536754 | -0.8363197 |  1.6893070 | \n",
       "| 4          | 117000     | 1744000    | 419000     | 2119000    |  0.7584341 | -0.4914476 | -0.1182891 |  0.9245817 | \n",
       "| 5          | 110000     | 1736000    | 755000     | 1781000    |  0.5438174 | -0.5142500 |  1.4689364 | -0.2345087 | \n",
       "| 6          |  79000     | 1637000    | 613000     | 2138000    | -0.4066282 | -0.7964299 |  0.7981447 |  0.9897376 | \n",
       "\n",
       "\n"
      ],
      "text/plain": [
       "  ï..STOREID FASHION LEISURE STRETCH ORIGINAL z_fashion  z_leisure  z_stretch \n",
       "1 1          182000  1528000 496000  2203000   2.7513038 -1.1071129  0.2454501\n",
       "2 2          129000  2247000 296000  1890000   1.1263485  0.9422545 -0.6993270\n",
       "3 3          107000  1652000 267000  2342000   0.4518388 -0.7536754 -0.8363197\n",
       "4 4          117000  1744000 419000  2119000   0.7584341 -0.4914476 -0.1182891\n",
       "5 5          110000  1736000 755000  1781000   0.5438174 -0.5142500  1.4689364\n",
       "6 6           79000  1637000 613000  2138000  -0.4066282 -0.7964299  0.7981447\n",
       "  z_original\n",
       "1  1.2126396\n",
       "2  0.1392808\n",
       "3  1.6893070\n",
       "4  0.9245817\n",
       "5 -0.2345087\n",
       "6  0.9897376"
      ]
     },
     "metadata": {},
     "output_type": "display_data"
    }
   ],
   "source": [
    "head(df)"
   ]
  },
  {
   "cell_type": "markdown",
   "metadata": {},
   "source": [
    "Revisar si hay datos faltantes"
   ]
  },
  {
   "cell_type": "code",
   "execution_count": 118,
   "metadata": {},
   "outputs": [
    {
     "data": {
      "text/html": [
       "0"
      ],
      "text/latex": [
       "0"
      ],
      "text/markdown": [
       "0"
      ],
      "text/plain": [
       "[1] 0"
      ]
     },
     "metadata": {},
     "output_type": "display_data"
    },
    {
     "data": {
      "text/html": [
       "0"
      ],
      "text/latex": [
       "0"
      ],
      "text/markdown": [
       "0"
      ],
      "text/plain": [
       "[1] 0"
      ]
     },
     "metadata": {},
     "output_type": "display_data"
    },
    {
     "data": {
      "text/html": [
       "0"
      ],
      "text/latex": [
       "0"
      ],
      "text/markdown": [
       "0"
      ],
      "text/plain": [
       "[1] 0"
      ]
     },
     "metadata": {},
     "output_type": "display_data"
    },
    {
     "data": {
      "text/html": [
       "0"
      ],
      "text/latex": [
       "0"
      ],
      "text/markdown": [
       "0"
      ],
      "text/plain": [
       "[1] 0"
      ]
     },
     "metadata": {},
     "output_type": "display_data"
    },
    {
     "data": {
      "text/html": [
       "0"
      ],
      "text/latex": [
       "0"
      ],
      "text/markdown": [
       "0"
      ],
      "text/plain": [
       "[1] 0"
      ]
     },
     "metadata": {},
     "output_type": "display_data"
    }
   ],
   "source": [
    "#check for missing values\n",
    "sum(is.na(df$FASHION))\n",
    "sum(is.na(df$STRETCH))\n",
    "sum(is.na(df$LEISURE))\n",
    "sum(is.na(df$ORIGINAL))\n",
    "sum(is.na(df))"
   ]
  },
  {
   "cell_type": "code",
   "execution_count": 120,
   "metadata": {},
   "outputs": [
    {
     "data": {
      "image/png": "[encoded data removed]",
      "text/plain": [
       "Plot with title \"Boxplot\""
      ]
     },
     "metadata": {},
     "output_type": "display_data",
     "source": "R display func"
    }
   ],
   "source": [
    "boxplot(df[,6:9], xlab = \"Tipo de Jean\", ylab = \"z-score de jeans vendidos\", main = \"Boxplot\")"
   ]
  },
  {
   "cell_type": "code",
   "execution_count": 121,
   "metadata": {},
   "outputs": [],
   "source": [
    "# revisar outliers\n",
    "fashion.outlier <- boxplot.stats(df$z_fashion)$out\n",
    "leisure.outlier <- boxplot.stats(df$z_leisure)$out\n",
    "stretch.outlier <- boxplot.stats(df$z_stretch)$out\n",
    "original.outlier <- boxplot.stats(df$z_original)$out\n"
   ]
  },
  {
   "cell_type": "code",
   "execution_count": 122,
   "metadata": {},
   "outputs": [],
   "source": [
    "# crear vector unico para el valor de outlier\n",
    "fashion.outlier.un <- unique(fashion.outlier)\n",
    "leisure.outlier.un<- unique(leisure.outlier)\n",
    "stretch.outlier.un <- unique(stretch.outlier)\n",
    "original.outlier.un <- unique(original.outlier)"
   ]
  },
  {
   "cell_type": "code",
   "execution_count": 123,
   "metadata": {},
   "outputs": [],
   "source": [
    "# funcion para remover outliers\n",
    "outlier_value <- function(x, factor){\n",
    "  \n",
    "  v <- vector(\"numeric\", length = 0)\n",
    "  for (i in 1:length(x)){\n",
    "    for (j in 1:length(factor)){\n",
    "      if (x[i] == factor[j]){\n",
    "        v<- c(v,i)}\n",
    "      \n",
    "    }\n",
    "  }\n",
    "  return(v)\n",
    "}"
   ]
  },
  {
   "cell_type": "code",
   "execution_count": 124,
   "metadata": {},
   "outputs": [],
   "source": [
    "# encontrar las filas con valores outliers\n",
    "ve1 <- outlier_value(df$z_fashion,fashion.outlier.un)\n",
    "ve2 <- outlier_value(df$z_leisure,leisure.outlier.un)\n",
    "ve3 <- outlier_value(df$z_stretch,stretch.outlier.un)\n",
    "ve4 <- outlier_value(df$z_original,original.outlier.un)"
   ]
  },
  {
   "cell_type": "code",
   "execution_count": 125,
   "metadata": {},
   "outputs": [
    {
     "data": {
      "image/png": "[encoded data removed]",
      "text/plain": [
       "Plot with title \"Boxplot\""
      ]
     },
     "metadata": {},
     "output_type": "display_data",
     "source": "R display func"
    }
   ],
   "source": [
    "# remover filas con valores outliers\n",
    "df <- df[-ve1,]\n",
    "df <- df[-ve2,]\n",
    "df <- df[-ve3,]\n",
    "df <- df[-ve4,]              \n",
    "boxplot(df[,6:9], xlab = \"Tipo de jean\", ylab = \"z-score de jeans vendidos \", main = \"Boxplot\")"
   ]
  },
  {
   "cell_type": "code",
   "execution_count": 126,
   "metadata": {},
   "outputs": [],
   "source": [
    "set.seed(42)\n",
    "row.names(df) <- df[,1]"
   ]
  },
  {
   "cell_type": "code",
   "execution_count": 128,
   "metadata": {},
   "outputs": [
    {
     "name": "stdout",
     "output_type": "stream",
     "text": [
      "*** : The Hubert index is a graphical method of determining the number of clusters.\n",
      "                In the plot of Hubert index, we seek a significant knee that corresponds to a \n",
      "                significant increase of the value of the measure i.e the significant peak in Hubert\n",
      "                index second differences plot. \n",
      " \n"
     ]
    },
    {
     "data": {
      "image/png": "[encoded data removed]",
      "text/plain": [
       "plot without title"
      ]
     },
     "metadata": {},
     "output_type": "display_data",
     "source": "R display func"
    },
    {
     "name": "stdout",
     "output_type": "stream",
     "text": [
      "*** : The D index is a graphical method of determining the number of clusters. \n",
      "                In the plot of D index, we seek a significant knee (the significant peak in Dindex\n",
      "                second differences plot) that corresponds to a significant increase of the value of\n",
      "                the measure. \n",
      " \n",
      "******************************************************************* \n",
      "* Among all indices:                                                \n",
      "* 5 proposed 2 as the best number of clusters \n",
      "* 2 proposed 3 as the best number of clusters \n",
      "* 2 proposed 4 as the best number of clusters \n",
      "* 5 proposed 5 as the best number of clusters \n",
      "* 5 proposed 6 as the best number of clusters \n",
      "* 2 proposed 9 as the best number of clusters \n",
      "* 2 proposed 10 as the best number of clusters \n",
      "\n",
      "                   ***** Conclusion *****                            \n",
      " \n",
      "* According to the majority rule, the best number of clusters is  2 \n",
      " \n",
      " \n",
      "******************************************************************* \n"
     ]
    },
    {
     "data": {
      "text/plain": [
       "\n",
       " 0  1  2  3  4  5  6  9 10 \n",
       " 2  1  5  2  2  5  5  2  2 "
      ]
     },
     "metadata": {},
     "output_type": "display_data"
    },
    {
     "data": {
      "image/png": "[encoded data removed]",
      "text/plain": [
       "plot without title"
      ]
     },
     "metadata": {},
     "output_type": "display_data",
     "source": "R display func"
    },
    {
     "data": {
      "image/png": "[encoded data removed]",
      "text/plain": [
       "Plot with title \"Number de clusters por criterio\""
      ]
     },
     "metadata": {},
     "output_type": "display_data",
     "source": "R display func"
    }
   ],
   "source": [
    "library(NbClust)\n",
    "devAskNewPage(ask=TRUE)\n",
    "nc <- NbClust(df[,6:9], min.nc=2, max.nc=10, method=\"kmeans\")\n",
    "table(nc$Best.n[1,])\n",
    "barplot(table(nc$Best.n[1,]), xlab=\"Numero de Clusters\", ylab=\"Numero de criterio\", main=\"Number de clusters por criterio\")"
   ]
  },
  {
   "cell_type": "code",
   "execution_count": 136,
   "metadata": {},
   "outputs": [],
   "source": [
    "#function to calculate the withing sum of sqaures for a range of number of clusters\n",
    "wssplot <- function(data, nc=10, seed=1234) {\n",
    "  wss <- (nrow(df)-1)*sum(apply(df[,6:9], 2, var)) \n",
    "  for (i in 2:10) {\n",
    "    set.seed(1234) \n",
    "    wss[i] <- sum(kmeans(data, centers=i)$withinss)\n",
    "  } \n",
    "  plot(1:10, wss, type=\"b\",main = \"Optimo numero de clusters\" , xlab=\"Numero de Clusters\", ylab=\"suma de cuadrados de grupos\")\n",
    "}"
   ]
  },
  {
   "cell_type": "code",
   "execution_count": 137,
   "metadata": {},
   "outputs": [
    {
     "data": {
      "image/png": "[encoded data removed]",
      "text/plain": [
       "Plot with title \"Optimo numero de clusters\""
      ]
     },
     "metadata": {},
     "output_type": "display_data",
     "source": "R display func"
    }
   ],
   "source": [
    "wssplot(df[,6:9])\n",
    "abline(v=6, col=\"red\", lty=2, lwd=3)\n"
   ]
  },
  {
   "cell_type": "code",
   "execution_count": 135,
   "metadata": {},
   "outputs": [
    {
     "data": {
      "text/plain": [
       "K-means clustering with 6 clusters of sizes 100, 112, 41, 157, 135, 98\n",
       "\n",
       "Cluster means:\n",
       "    z_fashion  z_leisure   z_stretch  z_original\n",
       "1 -0.23248203 -1.0045020  1.54721121  0.44102149\n",
       "2  1.26705385  0.1334049 -0.04329743  0.08122828\n",
       "3 -0.38045541 -0.7322634 -1.92868943 -0.89961818\n",
       "4 -0.55387205  0.4613341  0.08080612 -0.20768622\n",
       "5 -0.02486021 -0.5490026 -0.23285208  1.17608624\n",
       "6 -0.06061345  1.5076324 -0.43560889 -1.18941809\n",
       "\n",
       "Clustering vector:\n",
       "  2   3   4   5   6   7   8   9  10  11  12  13  15  17  18  19  20  21  22  23 \n",
       "  2   5   5   1   1   6   6   5   5   3   5   4   6   2   5   4   2   6   4   4 \n",
       " 24  25  26  27  28  29  30  31  32  33  34  35  36  37  38  39  40  41  42  43 \n",
       "  2   4   1   4   1   5   5   4   5   5   5   4   6   1   3   5   2   1   1   2 \n",
       " 44  45  46  47  48  49  50  51  52  53  54  55  56  57  58  59  60  61  64  66 \n",
       "  1   4   1   3   2   4   6   4   4   5   4   2   2   4   6   1   1   6   6   2 \n",
       " 68  69  72  73  74  75  78  79  80  81  82  83  84  85  86  87  88  89  90  91 \n",
       "  4   5   4   6   6   3   1   4   6   1   4   2   5   4   4   6   2   3   4   1 \n",
       " 92  94  95  96  97  98 100 101 102 103 104 105 106 107 108 109 110 111 112 113 \n",
       "  6   4   3   4   2   1   2   2   3   1   5   1   6   5   3   1   5   4   4   1 \n",
       "114 115 116 118 119 120 121 122 123 124 125 126 127 128 129 130 131 132 133 134 \n",
       "  4   3   4   6   3   2   3   3   1   2   1   3   5   4   4   6   4   2   4   4 \n",
       "135 136 137 138 139 140 141 142 143 144 145 146 147 148 149 150 151 152 153 154 \n",
       "  5   5   1   1   5   6   6   5   2   5   1   1   5   5   5   2   6   3   5   4 \n",
       "155 156 157 158 159 160 161 162 163 164 165 166 167 168 169 170 171 172 173 174 \n",
       "  2   1   4   4   2   3   4   4   4   4   2   6   4   2   5   5   4   1   1   4 \n",
       "175 177 178 179 180 182 184 185 186 187 188 189 190 191 192 193 194 195 196 197 \n",
       "  4   4   4   5   2   5   6   1   1   2   3   6   4   2   2   5   1   5   5   1 \n",
       "198 199 200 201 202 203 204 205 206 207 208 209 210 211 212 213 214 215 216 217 \n",
       "  3   5   2   6   1   2   2   4   1   4   2   5   4   6   4   2   4   1   3   4 \n",
       "218 219 220 221 222 223 224 225 226 228 229 230 231 232 233 234 235 236 237 238 \n",
       "  4   4   1   5   2   4   5   4   3   4   4   6   4   2   4   2   5   1   2   5 \n",
       "239 241 242 243 244 245 246 247 248 249 250 251 252 253 254 255 256 257 258 259 \n",
       "  1   4   4   3   6   1   4   1   5   6   2   1   3   4   4   6   3   2   5   5 \n",
       "260 261 262 264 265 266 267 268 269 270 271 272 273 274 275 276 277 278 279 280 \n",
       "  4   4   6   4   6   5   3   4   4   4   2   1   2   4   3   1   5   4   3   2 \n",
       "281 282 283 284 285 286 287 288 289 291 292 293 294 295 296 297 298 299 301 302 \n",
       "  6   6   4   6   4   2   2   3   2   5   6   4   5   2   5   5   6   5   1   5 \n",
       "303 304 305 306 307 309 310 311 312 313 315 316 317 318 319 320 321 323 324 325 \n",
       "  6   6   6   1   5   4   5   2   4   4   4   2   1   6   5   4   5   4   5   4 \n",
       "326 327 328 329 330 331 332 333 335 336 337 338 339 340 341 342 343 344 345 346 \n",
       "  2   4   1   5   4   2   2   5   5   4   4   5   5   4   5   5   4   1   5   6 \n",
       "347 348 349 350 351 352 353 354 355 356 357 358 359 360 361 362 363 364 365 366 \n",
       "  5   1   6   6   5   5   2   6   6   4   1   3   5   4   2   4   6   6   2   1 \n",
       "367 368 369 370 371 372 373 374 376 377 378 379 380 381 382 383 384 385 386 387 \n",
       "  5   2   2   6   5   2   6   2   4   5   1   4   5   2   4   2   6   2   5   3 \n",
       "388 389 390 391 392 393 395 396 397 398 399 400 401 402 403 404 405 406 407 408 \n",
       "  4   6   1   1   1   5   6   5   6   2   1   5   1   1   5   2   1   6   6   5 \n",
       "409 411 412 413 414 415 416 417 418 421 423 424 425 426 427 428 429 430 431 432 \n",
       "  6   4   6   6   5   4   4   6   5   2   1   4   1   5   2   1   6   4   2   5 \n",
       "433 435 436 437 438 439 440 441 443 444 445 446 448 449 450 451 452 453 454 455 \n",
       "  4   6   1   4   6   3   1   5   6   5   3   4   2   6   3   4   5   5   6   1 \n",
       "456 457 459 460 461 462 463 464 466 467 468 469 470 471 472 473 474 475 476 477 \n",
       "  4   6   4   5   1   4   4   6   2   5   3   4   1   2   4   4   2   4   2   2 \n",
       "478 479 480 481 482 483 484 485 486 487 488 489 490 491 492 493 494 495 496 497 \n",
       "  4   1   2   6   4   5   5   1   3   2   2   5   1   2   1   5   6   2   2   1 \n",
       "498 499 500 501 502 503 504 505 506 507 508 509 510 511 512 513 514 515 516 518 \n",
       "  5   6   2   1   5   4   2   5   2   1   4   1   4   6   6   2   2   6   4   3 \n",
       "519 520 521 522 523 524 525 526 527 528 529 530 531 533 534 535 536 537 538 539 \n",
       "  6   1   4   5   4   5   3   2   2   5   5   5   5   4   1   4   4   6   1   5 \n",
       "540 542 544 545 546 547 548 549 551 552 553 554 555 556 557 558 559 560 561 562 \n",
       "  1   4   1   2   4   1   5   4   5   2   4   6   6   2   1   6   6   2   5   5 \n",
       "564 565 566 567 568 569 570 572 573 574 575 576 577 578 579 580 581 582 583 584 \n",
       "  1   6   2   2   5   6   2   5   6   1   6   4   3   5   5   4   5   6   2   5 \n",
       "585 586 587 588 589 590 592 593 594 595 596 597 598 599 600 601 602 603 604 605 \n",
       "  4   5   1   6   4   6   4   4   6   4   6   4   5   5   5   5   4   1   2   2 \n",
       "606 607 608 609 610 611 612 613 614 615 616 617 618 619 620 621 622 623 624 625 \n",
       "  4   2   2   2   2   3   1   5   4   1   4   3   4   4   4   5   1   6   5   5 \n",
       "626 627 628 629 630 631 632 633 634 635 636 637 638 639 640 641 642 643 644 645 \n",
       "  2   5   5   4   4   4   2   1   3   1   4   4   5   2   2   5   6   6   6   4 \n",
       "646 647 648 649 650 651 652 653 654 655 656 657 658 659 660 661 662 663 664 666 \n",
       "  4   3   1   5   2   6   6   2   2   1   4   1   6   4   4   5   2   4   2   4 \n",
       "667 668 669 670 671 672 673 674 675 676 677 678 679 680 681 682 683 684 685 686 \n",
       "  1   5   1   1   5   2   2   5   5   1   6   5   6   2   1   5   6   2   1   3 \n",
       "687 688 689 \n",
       "  5   4   4 \n",
       "\n",
       "Within cluster sum of squares by cluster:\n",
       "[1] 162.76335 143.67775  78.24088 148.97627 150.38981 143.36058\n",
       " (between_SS / total_SS =  63.9 %)\n",
       "\n",
       "Available components:\n",
       "\n",
       "[1] \"cluster\"      \"centers\"      \"totss\"        \"withinss\"     \"tot.withinss\"\n",
       "[6] \"betweenss\"    \"size\"         \"iter\"         \"ifault\"      "
      ]
     },
     "metadata": {},
     "output_type": "display_data"
    }
   ],
   "source": [
    "fit.km <- kmeans(df[,6:9], 6, nstart=25)\n",
    "fit.km\n"
   ]
  },
  {
   "cell_type": "code",
   "execution_count": null,
   "metadata": {},
   "outputs": [],
   "source": []
  }
 ],
 "metadata": {
  "kernelspec": {
   "display_name": "R",
   "language": "R",
   "name": "ir"
  },
  "language_info": {
   "codemirror_mode": "r",
   "file_extension": ".r",
   "mimetype": "text/x-r-source",
   "name": "R",
   "pygments_lexer": "r",
   "version": "3.4.3"
  }
 },
 "nbformat": 4,
 "nbformat_minor": 2
}
